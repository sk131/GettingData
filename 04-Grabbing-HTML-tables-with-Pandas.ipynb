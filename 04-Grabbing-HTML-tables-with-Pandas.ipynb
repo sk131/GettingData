{
 "cells": [
  {
   "cell_type": "markdown",
   "metadata": {},
   "source": [
    "##  04 Grabbing HTML tables with Pandas\n",
    "What if you saw a table you wanted on a web page? For example: https://en.wikipedia.org/wiki/World_Happiness_Report. Can Python help us download those data? \n",
    "\n",
    "Why yes. Yes it can.\n",
    "\n",
    "Specifically, we use the Pandas' `read_html` function, which is able to identify tables in an HTML page and pull them out into a dataframe object."
   ]
  },
  {
   "cell_type": "code",
   "execution_count": 1,
   "metadata": {},
   "outputs": [],
   "source": [
    "#Import pandas\n",
    "import pandas"
   ]
  },
  {
   "cell_type": "code",
   "execution_count": 2,
   "metadata": {},
   "outputs": [
    {
     "name": "stdout",
     "output_type": "stream",
     "text": [
      "10 tables were found\n"
     ]
    }
   ],
   "source": [
    "#Here, the read_html function pulls into a list object any table in the URL we provide.\n",
    "tableList = pandas.read_html('https://en.wikipedia.org/wiki/World_Happiness_Report',header=0)\n",
    "print (\"{} tables were found\".format(len(tableList)))"
   ]
  },
  {
   "cell_type": "code",
   "execution_count": null,
   "metadata": {},
   "outputs": [],
   "source": [
    "#Let's grab the 6th table one and display it's firt five rows\n",
    "df = tableList[5]\n",
    "df.head()"
   ]
  },
  {
   "cell_type": "code",
   "execution_count": 3,
   "metadata": {},
   "outputs": [
    {
     "data": {
      "text/html": [
       "<div>\n",
       "<style scoped>\n",
       "    .dataframe tbody tr th:only-of-type {\n",
       "        vertical-align: middle;\n",
       "    }\n",
       "\n",
       "    .dataframe tbody tr th {\n",
       "        vertical-align: top;\n",
       "    }\n",
       "\n",
       "    .dataframe thead th {\n",
       "        text-align: right;\n",
       "    }\n",
       "</style>\n",
       "<table border=\"1\" class=\"dataframe\">\n",
       "  <thead>\n",
       "    <tr style=\"text-align: right;\">\n",
       "      <th></th>\n",
       "      <th>Overall Rank</th>\n",
       "      <th>Change in rank</th>\n",
       "      <th>Country</th>\n",
       "      <th>Score</th>\n",
       "      <th>Change in score</th>\n",
       "      <th>GDP per capita</th>\n",
       "      <th>Social support</th>\n",
       "      <th>Healthy life expectancy</th>\n",
       "      <th>Freedom to make life choices</th>\n",
       "      <th>Generosity</th>\n",
       "      <th>Trust</th>\n",
       "      <th>Residual</th>\n",
       "    </tr>\n",
       "  </thead>\n",
       "  <tbody>\n",
       "    <tr>\n",
       "      <th>0</th>\n",
       "      <td>1</td>\n",
       "      <td>3</td>\n",
       "      <td>Norway</td>\n",
       "      <td>7.537</td>\n",
       "      <td>0.039</td>\n",
       "      <td>1.616</td>\n",
       "      <td>1.534</td>\n",
       "      <td>0.797</td>\n",
       "      <td>0.635</td>\n",
       "      <td>0.362</td>\n",
       "      <td>0.316</td>\n",
       "      <td>2.277</td>\n",
       "    </tr>\n",
       "    <tr>\n",
       "      <th>1</th>\n",
       "      <td>2</td>\n",
       "      <td>1</td>\n",
       "      <td>Denmark</td>\n",
       "      <td>7.522</td>\n",
       "      <td>0.004</td>\n",
       "      <td>1.482</td>\n",
       "      <td>1.551</td>\n",
       "      <td>0.793</td>\n",
       "      <td>0.626</td>\n",
       "      <td>0.355</td>\n",
       "      <td>0.401</td>\n",
       "      <td>2.314</td>\n",
       "    </tr>\n",
       "    <tr>\n",
       "      <th>2</th>\n",
       "      <td>3</td>\n",
       "      <td>NaN</td>\n",
       "      <td>Iceland</td>\n",
       "      <td>7.504</td>\n",
       "      <td>0.003</td>\n",
       "      <td>1.481</td>\n",
       "      <td>1.611</td>\n",
       "      <td>0.834</td>\n",
       "      <td>0.627</td>\n",
       "      <td>0.476</td>\n",
       "      <td>0.154</td>\n",
       "      <td>2.323</td>\n",
       "    </tr>\n",
       "    <tr>\n",
       "      <th>3</th>\n",
       "      <td>4</td>\n",
       "      <td>2</td>\n",
       "      <td>Switzerland</td>\n",
       "      <td>7.494</td>\n",
       "      <td>0.015</td>\n",
       "      <td>1.565</td>\n",
       "      <td>1.517</td>\n",
       "      <td>0.858</td>\n",
       "      <td>0.620</td>\n",
       "      <td>0.291</td>\n",
       "      <td>0.367</td>\n",
       "      <td>2.277</td>\n",
       "    </tr>\n",
       "    <tr>\n",
       "      <th>4</th>\n",
       "      <td>5</td>\n",
       "      <td>NaN</td>\n",
       "      <td>Finland</td>\n",
       "      <td>7.469</td>\n",
       "      <td>0.056</td>\n",
       "      <td>1.444</td>\n",
       "      <td>1.540</td>\n",
       "      <td>0.809</td>\n",
       "      <td>0.618</td>\n",
       "      <td>0.245</td>\n",
       "      <td>0.383</td>\n",
       "      <td>2.430</td>\n",
       "    </tr>\n",
       "  </tbody>\n",
       "</table>\n",
       "</div>"
      ],
      "text/plain": [
       "  Overall Rank Change in rank      Country  Score  Change in score  \\\n",
       "0            1              3       Norway  7.537            0.039   \n",
       "1            2              1      Denmark  7.522            0.004   \n",
       "2            3            NaN      Iceland  7.504            0.003   \n",
       "3            4              2  Switzerland  7.494            0.015   \n",
       "4            5            NaN      Finland  7.469            0.056   \n",
       "\n",
       "   GDP per capita  Social support  Healthy life expectancy  \\\n",
       "0           1.616           1.534                    0.797   \n",
       "1           1.482           1.551                    0.793   \n",
       "2           1.481           1.611                    0.834   \n",
       "3           1.565           1.517                    0.858   \n",
       "4           1.444           1.540                    0.809   \n",
       "\n",
       "   Freedom to make life choices  Generosity  Trust  Residual  \n",
       "0                         0.635       0.362  0.316     2.277  \n",
       "1                         0.626       0.355  0.401     2.314  \n",
       "2                         0.627       0.476  0.154     2.323  \n",
       "3                         0.620       0.291  0.367     2.277  \n",
       "4                         0.618       0.245  0.383     2.430  "
      ]
     },
     "execution_count": 3,
     "metadata": {},
     "output_type": "execute_result"
    }
   ],
   "source": [
    "#Looks like the first row should be a header, we can fix this by adding the 'header=0' option when reading int the tables\n",
    "df = pandas.read_html('https://en.wikipedia.org/wiki/World_Happiness_Report',header=0)[5]\n",
    "df.head()"
   ]
  },
  {
   "cell_type": "code",
   "execution_count": 5,
   "metadata": {},
   "outputs": [],
   "source": [
    "#Now we can save it to a local file using df.to_csv()\n",
    "df.to_csv(\"Happiness.csv\", # The output filename\n",
    "          index=False,     # We opt not to write out the index\n",
    "          encoding='utf8') # This deals with issues surrounding countries with odd characters"
   ]
  },
  {
   "cell_type": "code",
   "execution_count": 6,
   "metadata": {},
   "outputs": [
    {
     "data": {
      "image/png": "[encoded data removed]",
      "text/plain": [
       "<Figure size 432x288 with 1 Axes>"
      ]
     },
     "metadata": {},
     "output_type": "display_data"
    }
   ],
   "source": [
    "#...or we can examine it\n",
    "#Here is as quick preview of pandas' plotting capability\n",
    "%matplotlib inline\n",
    "df.plot.scatter(x='Social support',y='Healthy life expectancy');"
   ]
  },
  {
   "cell_type": "code",
   "execution_count": null,
   "metadata": {},
   "outputs": [],
   "source": []
  }
 ],
 "metadata": {
  "kernelspec": {
   "display_name": "Python 3",
   "language": "python",
   "name": "python3"
  },
  "language_info": {
   "codemirror_mode": {
    "name": "ipython",
    "version": 3
   },
   "file_extension": ".py",
   "mimetype": "text/x-python",
   "name": "python",
   "nbconvert_exporter": "python",
   "pygments_lexer": "ipython3",
   "version": "3.6.5"
  }
 },
 "nbformat": 4,
 "nbformat_minor": 2
}
