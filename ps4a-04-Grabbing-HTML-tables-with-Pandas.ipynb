{
 "cells": [
  {
   "cell_type": "markdown",
   "metadata": {},
   "source": [
    "##  04 Grabbing HTML tables with Pandas\n",
    "What if you saw a table you wanted on a web page? For example: https://en.wikipedia.org/wiki/World_Happiness_Report. Can Python help us download those data? \n",
    "\n",
    "Why yes. Yes it can.\n",
    "\n",
    "Specifically, we use the Pandas' `read_html` function, which is able to identify tables in an HTML page and pull them out into a dataframe object."
   ]
  },
  {
   "cell_type": "code",
   "execution_count": null,
   "metadata": {},
   "outputs": [],
   "source": [
    "#Import pandas\n",
    "import pandas"
   ]
  },
  {
   "cell_type": "code",
   "execution_count": null,
   "metadata": {},
   "outputs": [],
   "source": [
    "#Here, the read_html function pulls into a list object any table in the URL we provide.\n",
    "tableList = pandas.read_html('https://en.wikipedia.org/wiki/World_Happiness_Report',header=0)\n",
    "print (\"{} tables were found\".format(len(tableList)))"
   ]
  },
  {
   "cell_type": "code",
   "execution_count": null,
   "metadata": {},
   "outputs": [],
   "source": [
    "#Let's grab the 6th table one and display it's firt five rows\n",
    "df = tableList[5]\n",
    "df.head()"
   ]
  },
  {
   "cell_type": "code",
   "execution_count": null,
   "metadata": {},
   "outputs": [],
   "source": [
    "#Looks like the first row should be a header, we can fix this by adding the 'header=0' option when reading int the tables\n",
    "df = pandas.read_html('https://en.wikipedia.org/wiki/World_Happiness_Report',header=0)[5]\n",
    "df.head()"
   ]
  },
  {
   "cell_type": "code",
   "execution_count": null,
   "metadata": {},
   "outputs": [],
   "source": [
    "#Now we can save it to a local file using df.to_csv()\n",
    "df.to_csv(\"Happiness.csv\", # The output filename\n",
    "          index=False,     # We opt not to write out the index\n",
    "          encoding='utf8') # This deals with issues surrounding countries with odd characters"
   ]
  },
  {
   "cell_type": "code",
   "execution_count": null,
   "metadata": {},
   "outputs": [],
   "source": [
    "#...or we can examine it\n",
    "#Here is as quick preview of pandas' plotting capability\n",
    "%matplotlib inline\n",
    "df.plot.scatter(x='Social support',y='Healthy life expectancy');"
   ]
  }
 ],
 "metadata": {
  "kernelspec": {
   "display_name": "Python 3",
   "language": "python",
   "name": "python3"
  },
  "language_info": {
   "codemirror_mode": {
    "name": "ipython",
    "version": 3
   },
   "file_extension": ".py",
   "mimetype": "text/x-python",
   "name": "python",
   "nbconvert_exporter": "python",
   "pygments_lexer": "ipython3",
   "version": "3.6.5"
  }
 },
 "nbformat": 4,
 "nbformat_minor": 2
}
